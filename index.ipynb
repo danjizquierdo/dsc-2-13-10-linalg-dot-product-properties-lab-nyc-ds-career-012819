{
 "cells": [
  {
   "cell_type": "markdown",
   "metadata": {},
   "source": [
    "# Properties of Dot Product - Lab"
   ]
  },
  {
   "cell_type": "markdown",
   "metadata": {},
   "source": [
    "## Introduction\n",
    "\n",
    "In this lab we shall look at some interesting properties of a Dot product type matrix multiplication. Understanding these properties will become useful as we move forward with machine learning advanced linear algebra. The lab will require you to calculate results to provide a proof for these properties.\n",
    "\n",
    "## Objectives\n",
    "You will be able to:\n",
    "* Understand and analytically explain Distributive, Commutative and Associative properties of dot product\n",
    "\n",
    "## Instructions\n",
    "\n",
    "* For each property, create suitably sized matrices with random data and prove the equations \n",
    "* Ensure that size/dimension assumptions are met while performing calculations (you'll see errors otherwise)\n",
    "* Calculate the LHS and RHS for all equations and show if they are equal or not"
   ]
  },
  {
   "cell_type": "code",
   "execution_count": 2,
   "metadata": {},
   "outputs": [],
   "source": [
    "import numpy as np\n",
    "np.random.seed(1)\n",
    "A = np.random.randint(1,10, size=(4,4))\n",
    "B = np.random.randint(1,10, size=(4,4))\n",
    "C = np.random.randint(1,10, size=(4,4))"
   ]
  },
  {
   "cell_type": "markdown",
   "metadata": {},
   "source": [
    "## Distributive Property - Matrices multiplication is distributive\n",
    "### Prove that A.(B+C)=A.B+A.C"
   ]
  },
  {
   "cell_type": "code",
   "execution_count": 7,
   "metadata": {},
   "outputs": [
    {
     "name": "stdout",
     "output_type": "stream",
     "text": [
      "[[219 249 229 165]\n",
      " [118 174 236 183]\n",
      " [144 181 195 146]\n",
      " [193 217 265 192]]\n",
      "\n",
      "[[219 249 229 165]\n",
      " [118 174 236 183]\n",
      " [144 181 195 146]\n",
      " [193 217 265 192]]\n"
     ]
    }
   ],
   "source": [
    "print(A.dot(B+C), A.dot(B)+A.dot(C),sep='\\n\\n')"
   ]
  },
  {
   "cell_type": "markdown",
   "metadata": {},
   "source": [
    "## Associative Property - Matrices multiplication is associative\n",
    "### Prove that A.(B.C)=(A.B).C"
   ]
  },
  {
   "cell_type": "code",
   "execution_count": 8,
   "metadata": {},
   "outputs": [
    {
     "name": "stdout",
     "output_type": "stream",
     "text": [
      "[[1955 2609 1627 1838]\n",
      " [1566 2136 1600 1707]\n",
      " [1496 2012 1367 1502]\n",
      " [1876 2576 1642 1846]]\n",
      "\n",
      "[[1955 2609 1627 1838]\n",
      " [1566 2136 1600 1707]\n",
      " [1496 2012 1367 1502]\n",
      " [1876 2576 1642 1846]]\n"
     ]
    }
   ],
   "source": [
    "print(A.dot(B.dot(C)),(A.dot(B)).dot(C),sep='\\n\\n')"
   ]
  },
  {
   "cell_type": "markdown",
   "metadata": {},
   "source": [
    "## Commutative Property - Matrix multiplication is NOT commutative\n",
    "### Prove that for matrices, A.B ≠ B.A"
   ]
  },
  {
   "cell_type": "code",
   "execution_count": 9,
   "metadata": {},
   "outputs": [
    {
     "name": "stdout",
     "output_type": "stream",
     "text": [
      "[[121 105 173  82]\n",
      " [ 58  97 150 105]\n",
      " [ 77  85 137  79]\n",
      " [ 98 116 170  88]]\n",
      "\n",
      "[[ 79 119 117  54]\n",
      " [ 81 120 158 100]\n",
      " [ 80  85 121 114]\n",
      " [ 77 106 164 123]]\n"
     ]
    }
   ],
   "source": [
    "print(A.dot(B),B.dot(A),sep='\\n\\n')"
   ]
  },
  {
   "cell_type": "markdown",
   "metadata": {},
   "source": [
    "## Commutative Property -  vector multiplication IS commutative\n",
    "### Prove that for vectors, x<sup>T</sup> . y = y<sup>T</sup> . x\n",
    "Note: superscipt<sup>T</sup> denotes the transpose we saw earlier"
   ]
  },
  {
   "cell_type": "code",
   "execution_count": 3,
   "metadata": {},
   "outputs": [
    {
     "name": "stdout",
     "output_type": "stream",
     "text": [
      "78 78\n",
      "[6 1 3 5] [8 7 1 4]\n"
     ]
    }
   ],
   "source": [
    "print(A[:,0].T.dot(B[:,0]),B[:,0].T.dot(A[:,0]))\n",
    "print(A[:,0],B[:,0])"
   ]
  },
  {
   "cell_type": "markdown",
   "metadata": {},
   "source": [
    "#### and finally \n",
    "## Simplification of the matrix product\n",
    "### Prove that  (A.B)<sup>T</sup> = B<sup>T</sup> . A<sup>T</sup>"
   ]
  },
  {
   "cell_type": "code",
   "execution_count": 12,
   "metadata": {},
   "outputs": [
    {
     "name": "stdout",
     "output_type": "stream",
     "text": [
      "[[121  58  77  98]\n",
      " [105  97  85 116]\n",
      " [173 150 137 170]\n",
      " [ 82 105  79  88]]\n",
      "\n",
      "[[121  58  77  98]\n",
      " [105  97  85 116]\n",
      " [173 150 137 170]\n",
      " [ 82 105  79  88]]\n"
     ]
    }
   ],
   "source": [
    "print((A.dot(B)).T,B.T.dot(A.T),sep='\\n\\n')"
   ]
  },
  {
   "cell_type": "markdown",
   "metadata": {},
   "source": [
    "## Summary \n",
    "\n",
    "So now we have seen enough matrix algebra to help us solve a problem of linear equations as we saw earlier in this section. We shall see how to do this next. "
   ]
  }
 ],
 "metadata": {
  "kernelspec": {
   "display_name": "Python 3",
   "language": "python",
   "name": "python3"
  },
  "language_info": {
   "codemirror_mode": {
    "name": "ipython",
    "version": 3
   },
   "file_extension": ".py",
   "mimetype": "text/x-python",
   "name": "python",
   "nbconvert_exporter": "python",
   "pygments_lexer": "ipython3",
   "version": "3.6.6"
  }
 },
 "nbformat": 4,
 "nbformat_minor": 2
}
